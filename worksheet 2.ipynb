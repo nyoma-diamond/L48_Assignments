{
 "cells": [
  {
   "cell_type": "code",
   "execution_count": 2,
   "outputs": [],
   "source": [
    "from scipy.spatial.distance import cdist\n",
    "import numpy as np\n",
    "import matplotlib.pyplot as plt"
   ],
   "metadata": {
    "collapsed": false,
    "ExecuteTime": {
     "end_time": "2023-10-16T23:09:38.767623300Z",
     "start_time": "2023-10-16T23:09:38.134244800Z"
    }
   }
  },
  {
   "cell_type": "code",
   "execution_count": 20,
   "outputs": [],
   "source": [
    "def rbf_kernel(x1, x2, varSigma, lengthScale):\n",
    "    if x2 is None:\n",
    "        d = cdist(x1, x1)\n",
    "    else:\n",
    "        d = cdist(x1, x2)\n",
    "\n",
    "    K = varSigma * np.exp(-np.power(d, 2)/lengthScale)\n",
    "\n",
    "    return K\n",
    "\n",
    "def lin_kernel(x1, x2, varSigma):\n",
    "    if x2 is None:\n",
    "        return varSigma * x1.dot(x1.T)\n",
    "    else:\n",
    "        return varSigma * x1.dot(x2.T)\n",
    "\n",
    "def white_kernel(x1, x2, varSigma):\n",
    "    if x2 is None:\n",
    "        return varSigma * np.eye(x1.shape[0])\n",
    "    else:\n",
    "        return np.zeros(x1.shape[0], x2.shape[0])\n",
    "\n",
    "def periodic_kernel(x1, x2, varSigma, period, lengthScale):\n",
    "    if x2 is None:\n",
    "        d = cdist(x1, x1)\n",
    "    else:\n",
    "        d = cdist(x1, x2)\n",
    "\n",
    "    return varSigma * np.exp(-(2 * np.sin((np.pi/period) * d)**2)/lengthScale**2)"
   ],
   "metadata": {
    "collapsed": false,
    "ExecuteTime": {
     "end_time": "2023-10-17T10:38:29.265131900Z",
     "start_time": "2023-10-17T10:38:29.251218800Z"
    }
   }
  },
  {
   "cell_type": "code",
   "execution_count": 51,
   "outputs": [
    {
     "ename": "TypeError",
     "evalue": "Cannot interpret '200' as a data type",
     "output_type": "error",
     "traceback": [
      "\u001B[1;31m---------------------------------------------------------------------------\u001B[0m",
      "\u001B[1;31mTypeError\u001B[0m                                 Traceback (most recent call last)",
      "Cell \u001B[1;32mIn [51], line 4\u001B[0m\n\u001B[0;32m      2\u001B[0m x \u001B[38;5;241m=\u001B[39m np\u001B[38;5;241m.\u001B[39mlinspace(\u001B[38;5;241m-\u001B[39m\u001B[38;5;241m6\u001B[39m, \u001B[38;5;241m6\u001B[39m, \u001B[38;5;241m200\u001B[39m)\u001B[38;5;241m.\u001B[39mreshape(\u001B[38;5;241m-\u001B[39m\u001B[38;5;241m1\u001B[39m, \u001B[38;5;241m1\u001B[39m)\n\u001B[0;32m      3\u001B[0m \u001B[38;5;66;03m# compute covariance matrix\u001B[39;00m\n\u001B[1;32m----> 4\u001B[0m K \u001B[38;5;241m=\u001B[39m \u001B[43mwhite_kernel\u001B[49m\u001B[43m(\u001B[49m\u001B[43mx\u001B[49m\u001B[43m,\u001B[49m\u001B[43m \u001B[49m\u001B[43mx\u001B[49m\u001B[43m,\u001B[49m\u001B[43m \u001B[49m\u001B[38;5;241;43m3.0\u001B[39;49m\u001B[43m)\u001B[49m\n\u001B[0;32m      5\u001B[0m \u001B[38;5;66;03m# create mean vector\u001B[39;00m\n\u001B[0;32m      6\u001B[0m mu \u001B[38;5;241m=\u001B[39m np\u001B[38;5;241m.\u001B[39mzeros(x\u001B[38;5;241m.\u001B[39mshape)\n",
      "Cell \u001B[1;32mIn [20], line 21\u001B[0m, in \u001B[0;36mwhite_kernel\u001B[1;34m(x1, x2, varSigma)\u001B[0m\n\u001B[0;32m     19\u001B[0m     \u001B[38;5;28;01mreturn\u001B[39;00m varSigma \u001B[38;5;241m*\u001B[39m np\u001B[38;5;241m.\u001B[39meye(x1\u001B[38;5;241m.\u001B[39mshape[\u001B[38;5;241m0\u001B[39m])\n\u001B[0;32m     20\u001B[0m \u001B[38;5;28;01melse\u001B[39;00m:\n\u001B[1;32m---> 21\u001B[0m     \u001B[38;5;28;01mreturn\u001B[39;00m \u001B[43mnp\u001B[49m\u001B[38;5;241;43m.\u001B[39;49m\u001B[43mzeros\u001B[49m\u001B[43m(\u001B[49m\u001B[43mx1\u001B[49m\u001B[38;5;241;43m.\u001B[39;49m\u001B[43mshape\u001B[49m\u001B[43m[\u001B[49m\u001B[38;5;241;43m0\u001B[39;49m\u001B[43m]\u001B[49m\u001B[43m,\u001B[49m\u001B[43m \u001B[49m\u001B[43mx2\u001B[49m\u001B[38;5;241;43m.\u001B[39;49m\u001B[43mshape\u001B[49m\u001B[43m[\u001B[49m\u001B[38;5;241;43m0\u001B[39;49m\u001B[43m]\u001B[49m\u001B[43m)\u001B[49m\n",
      "\u001B[1;31mTypeError\u001B[0m: Cannot interpret '200' as a data type"
     ]
    }
   ],
   "source": [
    "# choose index set for the marginal\n",
    "x = np.linspace(-6, 6, 200).reshape(-1, 1)\n",
    "# compute covariance matrix\n",
    "K = white_kernel(x, x, 3.0)\n",
    "# create mean vector\n",
    "mu = np.zeros(x.shape)\n",
    "\n",
    "# draw 20 samples from Gaussian distribution\n",
    "f = np.random.multivariate_normal(mu.flatten(), K, 20)\n",
    "\n",
    "fig = plt.figure()\n",
    "ax = fig.add_subplot(111)\n",
    "ax.plot(x, f.T)\n",
    "\n",
    "plt.show()"
   ],
   "metadata": {
    "collapsed": false,
    "ExecuteTime": {
     "end_time": "2023-10-17T11:02:33.745157300Z",
     "start_time": "2023-10-17T11:02:33.691759Z"
    }
   }
  },
  {
   "cell_type": "code",
   "execution_count": 49,
   "outputs": [],
   "source": [
    "N = 5\n",
    "\n",
    "x = np.linspace(-3.1, 3, N)\n",
    "y = np.sin(2*np.pi/x) + x*0.1 + 0.3*np.random.randn(x.shape[0])\n",
    "\n",
    "x = x.reshape(-1, 1)\n",
    "y = y.reshape(-1, 1)\n",
    "\n",
    "x_star = np.linspace(-6, 6, 500)"
   ],
   "metadata": {
    "collapsed": false,
    "ExecuteTime": {
     "end_time": "2023-10-17T10:56:00.679852500Z",
     "start_time": "2023-10-17T10:56:00.648180900Z"
    }
   }
  },
  {
   "cell_type": "code",
   "execution_count": 45,
   "outputs": [],
   "source": [
    "def gp_prediction(x1, y1, xstar, varSigma, lengthScale, noise):\n",
    "    k_starX = rbf_kernel(xstar, x1, varSigma, lengthScale) # noise\n",
    "    k_xx = rbf_kernel(x1, None, varSigma, lengthScale) # noise\n",
    "    k_starstar = rbf_kernel(xstar, None, varSigma, lengthScale) # noise\n",
    "\n",
    "    mu = k_starX.dot(np.linalg.inv(k_xx)).dot(y1)\n",
    "    var = k_starstar - (k_starX).dot(np.linalg.inv(k_xx)).dot(k_starX.T)\n",
    "\n",
    "    return mu, var, xstar"
   ],
   "metadata": {
    "collapsed": false,
    "ExecuteTime": {
     "end_time": "2023-10-17T10:52:53.574302Z",
     "start_time": "2023-10-17T10:52:53.555789200Z"
    }
   }
  },
  {
   "cell_type": "code",
   "execution_count": 53,
   "outputs": [
    {
     "ename": "ValueError",
     "evalue": "XA must be a 2-dimensional array.",
     "output_type": "error",
     "traceback": [
      "\u001B[1;31m---------------------------------------------------------------------------\u001B[0m",
      "\u001B[1;31mValueError\u001B[0m                                Traceback (most recent call last)",
      "Cell \u001B[1;32mIn [53], line 2\u001B[0m\n\u001B[0;32m      1\u001B[0m Nsamp \u001B[38;5;241m=\u001B[39m \u001B[38;5;241m100\u001B[39m\n\u001B[1;32m----> 2\u001B[0m mu_star, var_star, x_star \u001B[38;5;241m=\u001B[39m \u001B[43mgp_prediction\u001B[49m\u001B[43m(\u001B[49m\u001B[43mx\u001B[49m\u001B[43m,\u001B[49m\u001B[43m \u001B[49m\u001B[43my\u001B[49m\u001B[43m,\u001B[49m\u001B[43m \u001B[49m\u001B[43mx_star\u001B[49m\u001B[43m,\u001B[49m\u001B[43m \u001B[49m\u001B[38;5;241;43m1.0\u001B[39;49m\u001B[43m,\u001B[49m\u001B[43m \u001B[49m\u001B[38;5;241;43m3.0\u001B[39;49m\u001B[43m,\u001B[49m\u001B[43m \u001B[49m\u001B[38;5;28;43;01mNone\u001B[39;49;00m\u001B[43m)\u001B[49m\n\u001B[0;32m      3\u001B[0m f_star \u001B[38;5;241m=\u001B[39m np\u001B[38;5;241m.\u001B[39mrandom\u001B[38;5;241m.\u001B[39mmultivariate_normal(mu_star, var_star, Nsamp)\n\u001B[0;32m      5\u001B[0m fig \u001B[38;5;241m=\u001B[39m plt\u001B[38;5;241m.\u001B[39mfigure()\n",
      "Cell \u001B[1;32mIn [45], line 2\u001B[0m, in \u001B[0;36mgp_prediction\u001B[1;34m(x1, y1, xstar, lengthScale, varSigma, noise)\u001B[0m\n\u001B[0;32m      1\u001B[0m \u001B[38;5;28;01mdef\u001B[39;00m \u001B[38;5;21mgp_prediction\u001B[39m(x1, y1, xstar, lengthScale, varSigma, noise):\n\u001B[1;32m----> 2\u001B[0m     k_starX \u001B[38;5;241m=\u001B[39m \u001B[43mrbf_kernel\u001B[49m\u001B[43m(\u001B[49m\u001B[43mxstar\u001B[49m\u001B[43m,\u001B[49m\u001B[43m \u001B[49m\u001B[43mx1\u001B[49m\u001B[43m,\u001B[49m\u001B[43m \u001B[49m\u001B[43mvarSigma\u001B[49m\u001B[43m,\u001B[49m\u001B[43m \u001B[49m\u001B[43mlengthScale\u001B[49m\u001B[43m)\u001B[49m \u001B[38;5;66;03m# noise\u001B[39;00m\n\u001B[0;32m      3\u001B[0m     k_xx \u001B[38;5;241m=\u001B[39m rbf_kernel(x1, \u001B[38;5;28;01mNone\u001B[39;00m, varSigma, lengthScale) \u001B[38;5;66;03m# noise\u001B[39;00m\n\u001B[0;32m      4\u001B[0m     k_starstar \u001B[38;5;241m=\u001B[39m rbf_kernel(xstar, \u001B[38;5;28;01mNone\u001B[39;00m, varSigma, lengthScale) \u001B[38;5;66;03m# noise\u001B[39;00m\n",
      "Cell \u001B[1;32mIn [20], line 5\u001B[0m, in \u001B[0;36mrbf_kernel\u001B[1;34m(x1, x2, varSigma, lengthScale)\u001B[0m\n\u001B[0;32m      3\u001B[0m     d \u001B[38;5;241m=\u001B[39m cdist(x1, x1)\n\u001B[0;32m      4\u001B[0m \u001B[38;5;28;01melse\u001B[39;00m:\n\u001B[1;32m----> 5\u001B[0m     d \u001B[38;5;241m=\u001B[39m \u001B[43mcdist\u001B[49m\u001B[43m(\u001B[49m\u001B[43mx1\u001B[49m\u001B[43m,\u001B[49m\u001B[43m \u001B[49m\u001B[43mx2\u001B[49m\u001B[43m)\u001B[49m\n\u001B[0;32m      7\u001B[0m K \u001B[38;5;241m=\u001B[39m varSigma \u001B[38;5;241m*\u001B[39m np\u001B[38;5;241m.\u001B[39mexp(\u001B[38;5;241m-\u001B[39mnp\u001B[38;5;241m.\u001B[39mpower(d, \u001B[38;5;241m2\u001B[39m)\u001B[38;5;241m/\u001B[39mlengthScale)\n\u001B[0;32m      9\u001B[0m \u001B[38;5;28;01mreturn\u001B[39;00m K\n",
      "File \u001B[1;32m~\\AppData\\Roaming\\Python\\Python39\\site-packages\\scipy\\spatial\\distance.py:2906\u001B[0m, in \u001B[0;36mcdist\u001B[1;34m(XA, XB, metric, out, **kwargs)\u001B[0m\n\u001B[0;32m   2903\u001B[0m sB \u001B[38;5;241m=\u001B[39m XB\u001B[38;5;241m.\u001B[39mshape\n\u001B[0;32m   2905\u001B[0m \u001B[38;5;28;01mif\u001B[39;00m \u001B[38;5;28mlen\u001B[39m(s) \u001B[38;5;241m!=\u001B[39m \u001B[38;5;241m2\u001B[39m:\n\u001B[1;32m-> 2906\u001B[0m     \u001B[38;5;28;01mraise\u001B[39;00m \u001B[38;5;167;01mValueError\u001B[39;00m(\u001B[38;5;124m'\u001B[39m\u001B[38;5;124mXA must be a 2-dimensional array.\u001B[39m\u001B[38;5;124m'\u001B[39m)\n\u001B[0;32m   2907\u001B[0m \u001B[38;5;28;01mif\u001B[39;00m \u001B[38;5;28mlen\u001B[39m(sB) \u001B[38;5;241m!=\u001B[39m \u001B[38;5;241m2\u001B[39m:\n\u001B[0;32m   2908\u001B[0m     \u001B[38;5;28;01mraise\u001B[39;00m \u001B[38;5;167;01mValueError\u001B[39;00m(\u001B[38;5;124m'\u001B[39m\u001B[38;5;124mXB must be a 2-dimensional array.\u001B[39m\u001B[38;5;124m'\u001B[39m)\n",
      "\u001B[1;31mValueError\u001B[0m: XA must be a 2-dimensional array."
     ]
    }
   ],
   "source": [
    "Nsamp = 100\n",
    "mu_star, var_star, x_star = gp_prediction(x, y, x_star, 1.0, 3.0, None)\n",
    "f_star = np.random.multivariate_normal(mu_star, var_star, Nsamp)\n",
    "\n",
    "fig = plt.figure()\n",
    "ax = fig.add_subplot(111)\n",
    "ax.plot(x_star, f_star.T)\n",
    "ax.scatter(x, y, 200, 'k', '*', zorder=2)"
   ],
   "metadata": {
    "collapsed": false,
    "ExecuteTime": {
     "end_time": "2023-10-17T11:03:55.854484400Z",
     "start_time": "2023-10-17T11:03:55.795470800Z"
    }
   }
  }
 ],
 "metadata": {
  "kernelspec": {
   "display_name": "Python 3",
   "language": "python",
   "name": "python3"
  },
  "language_info": {
   "codemirror_mode": {
    "name": "ipython",
    "version": 2
   },
   "file_extension": ".py",
   "mimetype": "text/x-python",
   "name": "python",
   "nbconvert_exporter": "python",
   "pygments_lexer": "ipython2",
   "version": "2.7.6"
  }
 },
 "nbformat": 4,
 "nbformat_minor": 0
}
